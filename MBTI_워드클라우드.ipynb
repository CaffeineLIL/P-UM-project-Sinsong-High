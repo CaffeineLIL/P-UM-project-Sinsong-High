{
 "cells": [
  {
   "cell_type": "markdown",
   "id": "cd61845b-357a-4a2d-9522-1ab5109cf021",
   "metadata": {
    "deletable": true
   },
   "source": [
    "## **0. 패키지 설치 - 설치 완료 후 커널 재시작**"
   ]
  },
  {
   "cell_type": "code",
   "execution_count": 1,
   "id": "093d056e-8429-4fb6-bd26-bba6b04dfb46",
   "metadata": {
    "codle/previous_execution": {
     "code": "!pip install kiwipiepy \n!pip install wordcloud ",
     "id": "8733380"
    },
    "jce/previous_execution": {
     "code": "!pip install kiwipiepy \n!pip install wordcloud ",
     "id": "9862380"
    },
    "scrolled": true
   },
   "outputs": [],
   "source": [
    "# %pip install kiwipiepy \n",
    "# %pip install wordcloud \n",
    "# %pip install pandas\n",
    "# %pip install openpyxl\n"
   ]
  },
  {
   "cell_type": "markdown",
   "id": "ab5e9a26-79b8-492e-892d-71bcf81306c2",
   "metadata": {
    "deletable": true
   },
   "source": [
    "## **1. 라이브러리 가져오기**"
   ]
  },
  {
   "cell_type": "code",
   "execution_count": 2,
   "id": "f6be1ecf-673f-43db-b1a5-e49190df1a87",
   "metadata": {
    "codle/previous_execution": {
     "code": "# 데이터 처리를 위한 라이브러리\nimport pandas as pd\nfrom collections import Counter  \nfrom kiwipiepy import Kiwi",
     "id": "8733381"
    },
    "jce/previous_execution": {
     "code": "# 데이터 처리를 위한 라이브러리\nimport pandas as pd\nfrom collections import Counter  \nfrom kiwipiepy import Kiwi",
     "id": "9862381"
    }
   },
   "outputs": [],
   "source": [
    "# 데이터 처리를 위한 라이브러리 참조\n",
    "import pandas as pd \n",
    "from collections import Counter  \n",
    "from kiwipiepy import Kiwi"
   ]
  },
  {
   "cell_type": "code",
   "execution_count": 3,
   "id": "d45ed4d3-0454-4cd4-ad27-789d00b44d5c",
   "metadata": {
    "codle/previous_execution": {
     "code": "# 그래프 생성을 위한 라이브러리\nimport matplotlib.pyplot as plt\nfrom matplotlib import font_manager",
     "id": "8733382"
    },
    "jce/previous_execution": {
     "code": "# 그래프 생성을 위한 라이브러리\nimport matplotlib.pyplot as plt\nfrom matplotlib import font_manager",
     "id": "9862382"
    }
   },
   "outputs": [],
   "source": [
    "# 그래프 생성을 위한 라이브러리\n",
    "import matplotlib.pyplot as plt\n",
    "from matplotlib import font_manager"
   ]
  },
  {
   "cell_type": "markdown",
   "id": "03c13a6a-f86b-49b2-9ce2-e59480e572c5",
   "metadata": {
    "deletable": true
   },
   "source": [
    "## **2. 데이터 준비하기**\n"
   ]
  },
  {
   "cell_type": "markdown",
   "id": "9f1472ae-1962-4c54-80c5-28f2ed491aa3",
   "metadata": {
    "deletable": true
   },
   "source": [
    "\n",
    "### **2-1. 데이터 가져오기**\n",
    "- 엑셀파일의 데이터를 읽고, 데이터의 내용을 확인한다.\n",
    "\n"
   ]
  },
  {
   "cell_type": "code",
   "execution_count": 4,
   "id": "0d884fe5-8bb8-4721-a64b-62bf377a244c",
   "metadata": {
    "codle/previous_execution": {
     "code": "# 데이터 읽기\ndf = pd.read_csv('estp.csv')\ndf",
     "id": "8733384"
    },
    "jce/previous_execution": {
     "code": "# 데이터 읽기\ndf = pd.read_csv('enfp.csv')\ndf",
     "id": "9862385"
    }
   },
   "outputs": [],
   "source": [
    "# 데이터셋 불러오기. 기존 파일은 csv파일을 읽어오는 메서드였기에 파일 형식에 맞추어 excel파일을 읽어오는 메서드로 전환\n",
    "df = pd.read_excel(\"Earnings Disparity Race and Ethnicity Data.xlsx\",sheet_name = \"Data\")\n",
    "filtered_df = df[df['State'] == 'NATIONAL']\n"
   ]
  },
  {
   "cell_type": "markdown",
   "id": "6b6395d8-d589-4fc9-9b09-903b87bedeac",
   "metadata": {
    "deletable": true
   },
   "source": [
    "\n",
    "\n",
    "- 데이터의 정보를 확인한다.\n",
    "\n"
   ]
  },
  {
   "cell_type": "code",
   "execution_count": 5,
   "id": "0739253b-3045-41cc-a04e-f236c2be181b",
   "metadata": {
    "codle/previous_execution": {
     "code": "df.info()",
     "id": "8733385"
    },
    "jce/previous_execution": {
     "code": "df.info()",
     "id": "9862386"
    }
   },
   "outputs": [
    {
     "name": "stdout",
     "output_type": "stream",
     "text": [
      "<class 'pandas.core.frame.DataFrame'>\n",
      "RangeIndex: 312 entries, 0 to 311\n",
      "Data columns (total 6 columns):\n",
      " #   Column                   Non-Null Count  Dtype  \n",
      "---  ------                   --------------  -----  \n",
      " 0   State                    312 non-null    object \n",
      " 1   Data Type                312 non-null    object \n",
      " 2   Average Weekly Earnings  312 non-null    float64\n",
      " 3   Number of Workers        312 non-null    float64\n",
      " 4   Earnings Disparity       312 non-null    float64\n",
      " 5   Employed Percent         312 non-null    float64\n",
      "dtypes: float64(4), object(2)\n",
      "memory usage: 14.8+ KB\n"
     ]
    }
   ],
   "source": [
    "df.info()"
   ]
  },
  {
   "cell_type": "markdown",
   "id": "b144ff00-4338-4811-9c76-a67b601b3c6f",
   "metadata": {
    "deletable": true
   },
   "source": [
    "\n",
    "### **2-2. 데이터 전처리하기**\n",
    "➊ NULL값이 존재하는 행 제거\n",
    "\n"
   ]
  },
  {
   "cell_type": "code",
   "execution_count": 6,
   "id": "b8a8aacb-01d9-42b6-9d65-203e8c51a0ed",
   "metadata": {
    "codle/previous_execution": {
     "code": "# Null 값이 존재하는 행 제거\ndf = df.dropna()\n\nlen(df)",
     "id": "8733386"
    },
    "jce/previous_execution": {
     "code": "# Null 값이 존재하는 행 제거\ndf = df.dropna()\n\nlen(df)",
     "id": "9862388"
    }
   },
   "outputs": [
    {
     "data": {
      "text/plain": [
       "312"
      ]
     },
     "execution_count": 6,
     "metadata": {},
     "output_type": "execute_result"
    }
   ],
   "source": [
    "# Null 값이 존재하는 행 제거\n",
    "df = df.dropna()\n",
    "len(df) #NULL행이 제거된 후 남은 행의 개수 파악"
   ]
  },
  {
   "cell_type": "code",
   "execution_count": 9,
   "id": "5ae69210",
   "metadata": {},
   "outputs": [
    {
     "name": "stdout",
     "output_type": "stream",
     "text": [
      "데이터에 존재하는 인종 : ['White', 'Black', 'Native American/American Indian', 'Asian-Pacific Islander', 'Hispanic/Latino', 'Multiracial']\n",
      "백인의 소득 정도 비율을 1.0으로 놓았을 때, 다른 인종들과의 비교 수치 : [1.0, 0.75584644, 0.76634175, 1.1168691, 0.72889, 0.81430042]\n"
     ]
    }
   ],
   "source": [
    "# 2. 필터링된 데이터에서 다른 열의 정보 가져오기\n",
    "dataType = filtered_df['Data Type'].tolist()\n",
    "print(f\"데이터에 존재하는 인종 : {dataType}\")\n",
    "earnings_Disparity = filtered_df['Earnings Disparity'].tolist()\n",
    "print(f\"백인의 소득 정도 비율을 1.0으로 놓았을 때, 다른 인종들과의 비교 수치 : {earnings_Disparity}\")"
   ]
  },
  {
   "cell_type": "markdown",
   "id": "c8d3d0d9",
   "metadata": {},
   "source": [
    "\n",
    "## **3. 데이터 시각화하기**"
   ]
  },
  {
   "cell_type": "code",
   "execution_count": 22,
   "id": "d99d6151",
   "metadata": {},
   "outputs": [
    {
     "data": {
      "image/png": "[encoded data removed]",
      "text/plain": [
       "<Figure size 1200x1000 with 1 Axes>"
      ]
     },
     "metadata": {},
     "output_type": "display_data"
    }
   ],
   "source": [
    "#만약 findfont: font family '폰트 이름' not found. 에러가 뜨면 해당 함수를 호출하세요.\n",
    "#물론 fname 변수, name, update()함수 는 알맞게 수정 후 실행해야 합니다\n",
    "\n",
    " # ttf 파일이 저장되어 있는 경로\n",
    "filePath = 'C:\\\\학교 과제\\\\알피코\\\\신송고\\\\MBTI_WordCloud\\\\NanumBarunGothic.ttf'\n",
    " # 이 폰트의 원하는 이름 설정\n",
    "fontName = 'NanumBarunGothic'\n",
    "def ApplyFont(filepath, fontName):\n",
    "    fe = font_manager.FontEntry(fname=filePath, name = fontName)                  \n",
    "    font_manager.fontManager.ttflist.insert(0, fe)              # Matplotlib에 폰트 추가\n",
    "    plt.rcParams.update({'font.size': 18, 'font.family': fontName}) # 폰트 설정\n",
    "\n",
    "#폰트 적용\n",
    "ApplyFont(filePath, fontName)\n",
    "\n",
    "plt.rc('font', family = fontName)\n",
    "plt.figure(figsize=(12, 10))\n",
    "colors = ['C0', 'C1', 'C2', 'C3', 'C4', 'C5', 'C6']\n",
    "plt.bar(dataType, earnings_Disparity, color=colors)\n",
    "# 레이아웃 자동 조정\n",
    "plt.tight_layout()\n",
    "plt.xticks(fontsize=9.5)\n",
    "plt.xlabel('인종')\n",
    "plt.ylabel('소득 비율')\n",
    "plt.title('인종별 소득 격차(백인을 1로 하였을때 인종별 소득 비율)')\n",
    "plt.savefig('인종 별 소득격차.png', format='png')\n",
    "plt.show()\n",
    "\n",
    "#print(\"프로그램 실행 완료\")"
   ]
  },
  {
   "cell_type": "code",
   "execution_count": null,
   "id": "834d562d",
   "metadata": {},
   "outputs": [],
   "source": []
  },
  {
   "cell_type": "code",
   "execution_count": null,
   "id": "002671fe",
   "metadata": {},
   "outputs": [],
   "source": []
  }
 ],
 "metadata": {
  "kernelspec": {
   "display_name": "Python 3 (ipykernel)",
   "language": "python",
   "name": "python3"
  },
  "language_info": {
   "codemirror_mode": {
    "name": "ipython",
    "version": 3
   },
   "file_extension": ".py",
   "mimetype": "text/x-python",
   "name": "python",
   "nbconvert_exporter": "python",
   "pygments_lexer": "ipython3",
   "version": "3.12.6"
  },
  "read_only": false
 },
 "nbformat": 4,
 "nbformat_minor": 5
}
